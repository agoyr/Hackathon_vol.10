{
 "cells": [
  {
   "cell_type": "markdown",
   "metadata": {},
   "source": [
    "$$p_{t+1} = p_t + \\Delta p_t$$\n",
    "$$n_{t+1} = n_t + \\Delta n_t = n_t + \\{f(p_{t+1}) - n_t\\} = f(p_{t+1})$$\n",
    "$$R_{t+1} = p_{t+1} \\times n_{t+1}$$\n",
    "$$f(p_{t+1}) = f(p_t + \\Delta p_t)$$\n",
    "$$\\Delta p_t = \\{{\\arg\\max}_{p_t} p_t \\times f(p_t)\\} - p_t$$"
   ]
  },
  {
   "cell_type": "code",
   "execution_count": null,
   "metadata": {},
   "outputs": [],
   "source": []
  }
 ],
 "metadata": {
  "language_info": {
   "name": "python"
  }
 },
 "nbformat": 4,
 "nbformat_minor": 2
}
