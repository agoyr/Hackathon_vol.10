{
 "cells": [
  {
   "cell_type": "markdown",
   "metadata": {},
   "source": [
    "## 更新式\n",
    "\n",
    "$$R = \\sum_{t=0}^T R_t$$\n",
    "\n",
    "$$p_{t+1} = p_t + \\Delta p_t$$\n",
    "$$n_{t+1} = n_t + \\Delta n_t = n_t + \\alpha\\{f(p_{t+1}) - n_t\\}$$\n",
    "$$R_{t+1} = p_{t+1} \\times n_{t+1}$$\n",
    "$$f(p_{t+1}) = f(p_t + \\Delta p_t)$$\n",
    "$$p_t^* = \\argmax_{p_t} p_t \\times f(p_t)$$\n",
    "$$\\Delta p_t = p_t^* - p_t$$\n",
    "\n",
    "### 手順 （累積収益 $R$ の計算）\n",
    "\n",
    "0. initialize $R (=0)$\n",
    "1. initialize $T, \\alpha, p_0, n_0$ \n",
    "2. calculate $R_0$ from $p_0, n_0$ \n",
    "3. for $t \\in {0, 1, ..., T-1}$ \n",
    "   1. find $\\Delta p_t$\n",
    "   2. calculate $p_{t+1}$\n",
    "   3. calculate $f(p_{t+1})$\n",
    "   4. calculate $n_{t+1}$\n",
    "   5. calculate $R_{t+1}$ from $p_{t+1}, n_{t+1}$ \n",
    "   6. update $R$ by adding $R_{t+1}$\n",
    "4. end for\n",
    "5. return $R$"
   ]
  },
  {
   "cell_type": "code",
   "execution_count": 11,
   "metadata": {},
   "outputs": [],
   "source": [
    "import numpy as np\n",
    "\n",
    "\n",
    "class GroundTruthDynamics2:\n",
    "    def __init__(self, P_min: float, P_max: float, N_min: int, N_max: int):\n",
    "        self.P_min = P_min\n",
    "        self.P_max = P_max\n",
    "        self.N_min = N_min\n",
    "        self.N_max = N_max\n",
    "\n",
    "    def __call__(self, p: float) -> float:\n",
    "        # 線形補間\n",
    "        value = self.N_max - (self.N_max - self.N_min) * (p - self.P_min) / (self.P_max - self.P_min)\n",
    "        return np.clip(value, self.N_min, self.N_max)\n",
    "\n",
    "# パラメータ設定\n",
    "alpha = 0.1\n",
    "P_min, P_max = 0, 5000\n",
    "N_min, N_max = 0, 2000\n",
    "\n",
    "n0 = 100\n",
    "p0 = 3700\n",
    "\n",
    "# 関数定義\n",
    "f = GroundTruthDynamics2(P_min, P_max, N_min, N_max)\n",
    "\n",
    "# シミュレーションパラメータ\n",
    "num_steps = 100\n",
    "n_values = np.zeros(num_steps + 1)\n",
    "p_values = np.zeros(num_steps + 1)\n",
    "R_values = np.zeros(num_steps + 1)\n",
    "\n",
    "# 初期値設定\n",
    "n_values[0] = n0\n",
    "p_values[0] = p0\n",
    "R_values[0] = p0 * n0\n",
    "\n",
    "# シミュレーション実行\n",
    "for t in range(num_steps):\n",
    "    p_t = p_values[t]\n",
    "    n_t = n_values[t]\n",
    "    p_t_plus_1 = p_t  # delta_p_t は 0 なので、p_t_plus_1 は常に p_t と同じ\n",
    "    f_p_t_plus_1 = f(p_t_plus_1)\n",
    "    n_t_plus_1 = n_t + alpha * (f_p_t_plus_1 - n_t)\n",
    "    R_t_plus_1 = p_t_plus_1 * n_t_plus_1\n",
    "    \n",
    "    # 値を保存\n",
    "    p_values[t + 1] = p_t_plus_1\n",
    "    n_values[t + 1] = n_t_plus_1\n",
    "    R_values[t + 1] = R_t_plus_1"
   ]
  },
  {
   "cell_type": "code",
   "execution_count": 12,
   "metadata": {},
   "outputs": [
    {
     "data": {
      "text/plain": [
       "array([ 100.        ,  210.        ,  309.        ,  398.1       ,\n",
       "        478.29      ,  550.461     ,  615.4149    ,  673.87341   ,\n",
       "        726.486069  ,  773.8374621 ,  816.45371589,  854.8083443 ,\n",
       "        889.32750987,  920.39475888,  948.355283  ,  973.5197547 ,\n",
       "        996.16777923, 1016.5510013 , 1034.89590117, 1051.40631106,\n",
       "       1066.26567995, 1079.63911196, 1091.67520076, 1102.50768068,\n",
       "       1112.25691262, 1121.03122135, 1128.92809922, 1136.0352893 ,\n",
       "       1142.43176037, 1148.18858433, 1153.3697259 , 1158.03275331,\n",
       "       1162.22947798, 1166.00653018, 1169.40587716, 1172.46528945,\n",
       "       1175.2187605 , 1177.69688445, 1179.92719601, 1181.9344764 ,\n",
       "       1183.74102876, 1185.36692589, 1186.8302333 , 1188.14720997,\n",
       "       1189.33248897, 1190.39924008, 1191.35931607, 1192.22338446,\n",
       "       1193.00104601, 1193.70094141, 1194.33084727, 1194.89776254,\n",
       "       1195.40798629, 1195.86718766, 1196.2804689 , 1196.65242201,\n",
       "       1196.98717981, 1197.28846182, 1197.55961564, 1197.80365408,\n",
       "       1198.02328867, 1198.2209598 , 1198.39886382, 1198.55897744,\n",
       "       1198.7030797 , 1198.83277173, 1198.94949455, 1199.0545451 ,\n",
       "       1199.14909059, 1199.23418153, 1199.31076338, 1199.37968704,\n",
       "       1199.44171834, 1199.4975465 , 1199.54779185, 1199.59301267,\n",
       "       1199.6337114 , 1199.67034026, 1199.70330623, 1199.73297561,\n",
       "       1199.75967805, 1199.78371024, 1199.80533922, 1199.8248053 ,\n",
       "       1199.84232477, 1199.85809229, 1199.87228306, 1199.88505476,\n",
       "       1199.89654928, 1199.90689435, 1199.91620492, 1199.92458443,\n",
       "       1199.93212598, 1199.93891338, 1199.94502205, 1199.95051984,\n",
       "       1199.95546786, 1199.95992107, 1199.96392896, 1199.96753607,\n",
       "       1199.97078246])"
      ]
     },
     "execution_count": 12,
     "metadata": {},
     "output_type": "execute_result"
    }
   ],
   "source": [
    "n_values"
   ]
  },
  {
   "cell_type": "code",
   "execution_count": null,
   "metadata": {},
   "outputs": [],
   "source": []
  },
  {
   "cell_type": "code",
   "execution_count": null,
   "metadata": {},
   "outputs": [],
   "source": []
  },
  {
   "cell_type": "code",
   "execution_count": null,
   "metadata": {},
   "outputs": [],
   "source": []
  },
  {
   "cell_type": "code",
   "execution_count": 15,
   "metadata": {},
   "outputs": [],
   "source": [
    "import os\n",
    "from path_info import DATA_DIR\n",
    "import pandas as pd"
   ]
  },
  {
   "cell_type": "code",
   "execution_count": 16,
   "metadata": {},
   "outputs": [
    {
     "data": {
      "text/html": [
       "<div>\n",
       "<style scoped>\n",
       "    .dataframe tbody tr th:only-of-type {\n",
       "        vertical-align: middle;\n",
       "    }\n",
       "\n",
       "    .dataframe tbody tr th {\n",
       "        vertical-align: top;\n",
       "    }\n",
       "\n",
       "    .dataframe thead th {\n",
       "        text-align: right;\n",
       "    }\n",
       "</style>\n",
       "<table border=\"1\" class=\"dataframe\">\n",
       "  <thead>\n",
       "    <tr style=\"text-align: right;\">\n",
       "      <th></th>\n",
       "      <th>Prefecture_JP</th>\n",
       "      <th>Prefecture_EN</th>\n",
       "      <th>Prefecture_Code</th>\n",
       "      <th>Total_Population</th>\n",
       "      <th>Male_Population</th>\n",
       "      <th>Female_Population</th>\n",
       "      <th>Female_subs</th>\n",
       "      <th>Male_Subs</th>\n",
       "      <th>Total_subs</th>\n",
       "      <th>male_ratio</th>\n",
       "      <th>femal_ratio</th>\n",
       "      <th>total_ratio</th>\n",
       "    </tr>\n",
       "  </thead>\n",
       "  <tbody>\n",
       "    <tr>\n",
       "      <th>0</th>\n",
       "      <td>北海道</td>\n",
       "      <td>Hokkaido</td>\n",
       "      <td>JP-01</td>\n",
       "      <td>5250000</td>\n",
       "      <td>2500000</td>\n",
       "      <td>2750000</td>\n",
       "      <td>65810</td>\n",
       "      <td>111800</td>\n",
       "      <td>177610</td>\n",
       "      <td>0.044720</td>\n",
       "      <td>0.023931</td>\n",
       "      <td>0.033830</td>\n",
       "    </tr>\n",
       "    <tr>\n",
       "      <th>1</th>\n",
       "      <td>青森県</td>\n",
       "      <td>Aomori</td>\n",
       "      <td>JP-02</td>\n",
       "      <td>1263000</td>\n",
       "      <td>610000</td>\n",
       "      <td>653000</td>\n",
       "      <td>10915</td>\n",
       "      <td>23650</td>\n",
       "      <td>34565</td>\n",
       "      <td>0.038770</td>\n",
       "      <td>0.016715</td>\n",
       "      <td>0.027367</td>\n",
       "    </tr>\n",
       "    <tr>\n",
       "      <th>2</th>\n",
       "      <td>岩手県</td>\n",
       "      <td>Iwate</td>\n",
       "      <td>JP-03</td>\n",
       "      <td>1225000</td>\n",
       "      <td>590000</td>\n",
       "      <td>635000</td>\n",
       "      <td>10980</td>\n",
       "      <td>23825</td>\n",
       "      <td>34805</td>\n",
       "      <td>0.040381</td>\n",
       "      <td>0.017291</td>\n",
       "      <td>0.028412</td>\n",
       "    </tr>\n",
       "    <tr>\n",
       "      <th>3</th>\n",
       "      <td>宮城県</td>\n",
       "      <td>Miyagi</td>\n",
       "      <td>JP-04</td>\n",
       "      <td>2321000</td>\n",
       "      <td>1120000</td>\n",
       "      <td>1201000</td>\n",
       "      <td>30120</td>\n",
       "      <td>52450</td>\n",
       "      <td>82570</td>\n",
       "      <td>0.046830</td>\n",
       "      <td>0.025079</td>\n",
       "      <td>0.035575</td>\n",
       "    </tr>\n",
       "    <tr>\n",
       "      <th>4</th>\n",
       "      <td>秋田県</td>\n",
       "      <td>Akita</td>\n",
       "      <td>JP-05</td>\n",
       "      <td>974000</td>\n",
       "      <td>470000</td>\n",
       "      <td>504000</td>\n",
       "      <td>9070</td>\n",
       "      <td>14960</td>\n",
       "      <td>24030</td>\n",
       "      <td>0.031830</td>\n",
       "      <td>0.017996</td>\n",
       "      <td>0.024671</td>\n",
       "    </tr>\n",
       "  </tbody>\n",
       "</table>\n",
       "</div>"
      ],
      "text/plain": [
       "  Prefecture_JP Prefecture_EN Prefecture_Code  Total_Population  \\\n",
       "0           北海道      Hokkaido           JP-01           5250000   \n",
       "1           青森県        Aomori           JP-02           1263000   \n",
       "2           岩手県         Iwate           JP-03           1225000   \n",
       "3           宮城県        Miyagi           JP-04           2321000   \n",
       "4           秋田県         Akita           JP-05            974000   \n",
       "\n",
       "   Male_Population  Female_Population  Female_subs  Male_Subs  Total_subs  \\\n",
       "0          2500000            2750000        65810     111800      177610   \n",
       "1           610000             653000        10915      23650       34565   \n",
       "2           590000             635000        10980      23825       34805   \n",
       "3          1120000            1201000        30120      52450       82570   \n",
       "4           470000             504000         9070      14960       24030   \n",
       "\n",
       "   male_ratio  femal_ratio  total_ratio  \n",
       "0    0.044720     0.023931     0.033830  \n",
       "1    0.038770     0.016715     0.027367  \n",
       "2    0.040381     0.017291     0.028412  \n",
       "3    0.046830     0.025079     0.035575  \n",
       "4    0.031830     0.017996     0.024671  "
      ]
     },
     "execution_count": 16,
     "metadata": {},
     "output_type": "execute_result"
    }
   ],
   "source": [
    "df = pd.read_csv(os.path.join(DATA_DIR, 'prefecture_data_with_pairs_info_v2.csv'), index_col=0)\n",
    "df.head()"
   ]
  },
  {
   "cell_type": "code",
   "execution_count": 22,
   "metadata": {},
   "outputs": [
    {
     "data": {
      "text/plain": [
       "np.float64(91550.9574468085)"
      ]
     },
     "execution_count": 22,
     "metadata": {},
     "output_type": "execute_result"
    }
   ],
   "source": [
    "df['Total_subs'].mean()"
   ]
  },
  {
   "cell_type": "code",
   "execution_count": 24,
   "metadata": {},
   "outputs": [
    {
     "data": {
      "text/plain": [
       "91550.0"
      ]
     },
     "execution_count": 24,
     "metadata": {},
     "output_type": "execute_result"
    }
   ],
   "source": [
    "float(np.floor(df['Total_subs'].mean()))"
   ]
  },
  {
   "cell_type": "code",
   "execution_count": null,
   "metadata": {},
   "outputs": [],
   "source": []
  },
  {
   "cell_type": "code",
   "execution_count": null,
   "metadata": {},
   "outputs": [],
   "source": []
  },
  {
   "cell_type": "code",
   "execution_count": null,
   "metadata": {},
   "outputs": [],
   "source": []
  },
  {
   "cell_type": "code",
   "execution_count": null,
   "metadata": {},
   "outputs": [],
   "source": []
  },
  {
   "cell_type": "code",
   "execution_count": null,
   "metadata": {},
   "outputs": [],
   "source": []
  },
  {
   "cell_type": "code",
   "execution_count": null,
   "metadata": {},
   "outputs": [],
   "source": []
  }
 ],
 "metadata": {
  "kernelspec": {
   "display_name": "dp-env",
   "language": "python",
   "name": "python3"
  },
  "language_info": {
   "codemirror_mode": {
    "name": "ipython",
    "version": 3
   },
   "file_extension": ".py",
   "mimetype": "text/x-python",
   "name": "python",
   "nbconvert_exporter": "python",
   "pygments_lexer": "ipython3",
   "version": "3.12.4"
  }
 },
 "nbformat": 4,
 "nbformat_minor": 2
}
